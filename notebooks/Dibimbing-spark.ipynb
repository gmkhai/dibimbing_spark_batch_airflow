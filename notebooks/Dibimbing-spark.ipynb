{
 "cells": [
  {
   "cell_type": "code",
   "execution_count": 1,
   "id": "a867864e-ad0e-4175-9ba7-00028eba48a5",
   "metadata": {
    "tags": []
   },
   "outputs": [],
   "source": [
    "import pyspark\n",
    "import os\n",
    "import json\n",
    "import argparse\n",
    "\n",
    "from dotenv import load_dotenv\n",
    "from pathlib import Path\n",
    "from pyspark.sql.types import StructType\n",
    "from pyspark.sql.functions import to_timestamp,col,when"
   ]
  },
  {
   "cell_type": "markdown",
   "id": "efc4e293-7230-4d7c-bc4f-f8ba5d4e32e8",
   "metadata": {
    "tags": []
   },
   "source": [
    "## Initialization"
   ]
  },
  {
   "cell_type": "code",
   "execution_count": 2,
   "id": "a8ac2902-1ba2-4f59-b3db-da15788af820",
   "metadata": {
    "tags": []
   },
   "outputs": [
    {
     "data": {
      "text/plain": [
       "True"
      ]
     },
     "execution_count": 2,
     "metadata": {},
     "output_type": "execute_result"
    }
   ],
   "source": [
    "dotenv_path = Path('/resources/.env')\n",
    "load_dotenv(dotenv_path=dotenv_path)"
   ]
  },
  {
   "cell_type": "code",
   "execution_count": 3,
   "id": "0ba0f442-5349-4f76-87e6-7147a1963dc7",
   "metadata": {
    "tags": []
   },
   "outputs": [],
   "source": [
    "postgres_host = os.getenv('POSTGRES_CONTAINER_NAME')\n",
    "postgres_dw_db = os.getenv('POSTGRES_DW_DB')\n",
    "postgres_user = os.getenv('POSTGRES_USER')\n",
    "postgres_password = os.getenv('POSTGRES_PASSWORD')"
   ]
  },
  {
   "cell_type": "code",
   "execution_count": 4,
   "id": "025b23a6-c84c-48d4-87e4-94d4a9953d1b",
   "metadata": {
    "tags": []
   },
   "outputs": [],
   "source": [
    "sparkcontext = pyspark.SparkContext.getOrCreate(conf=(\n",
    "        pyspark\n",
    "        .SparkConf()\n",
    "        .setAppName('Dibimbing')\n",
    "        .setMaster('local')\n",
    "        .set(\"spark.jars\", \"/opt/postgresql-42.2.18.jar\")\n",
    "    ))\n",
    "sparkcontext.setLogLevel(\"WARN\")\n",
    "\n",
    "spark = pyspark.sql.SparkSession(sparkcontext.getOrCreate())"
   ]
  },
  {
   "cell_type": "code",
   "execution_count": 5,
   "id": "5bc1fd6b-ed91-4843-af3a-14e7c6114b6a",
   "metadata": {
    "tags": []
   },
   "outputs": [
    {
     "data": {
      "text/html": [
       "\n",
       "            <div>\n",
       "                <p><b>SparkSession - in-memory</b></p>\n",
       "                \n",
       "        <div>\n",
       "            <p><b>SparkContext</b></p>\n",
       "\n",
       "            <p><a href=\"http://dibimbing-jupyter:4040\">Spark UI</a></p>\n",
       "\n",
       "            <dl>\n",
       "              <dt>Version</dt>\n",
       "                <dd><code>v3.3.2</code></dd>\n",
       "              <dt>Master</dt>\n",
       "                <dd><code>local</code></dd>\n",
       "              <dt>AppName</dt>\n",
       "                <dd><code>Dibimbing</code></dd>\n",
       "            </dl>\n",
       "        </div>\n",
       "        \n",
       "            </div>\n",
       "        "
      ],
      "text/plain": [
       "<pyspark.sql.session.SparkSession at 0x7f3968fa79d0>"
      ]
     },
     "execution_count": 5,
     "metadata": {},
     "output_type": "execute_result"
    }
   ],
   "source": [
    "spark"
   ]
  },
  {
   "cell_type": "markdown",
   "id": "fce8def0-a6b9-4fa7-a6f3-4df51d235b7d",
   "metadata": {
    "tags": []
   },
   "source": [
    "## Basic"
   ]
  },
  {
   "cell_type": "code",
   "execution_count": 6,
   "id": "9faae8a4-7c8d-4d15-a3ed-422afb3def32",
   "metadata": {
    "tags": []
   },
   "outputs": [],
   "source": [
    "schema = \"invoice_no long, stock_code string, description string, quantity int, invoice_date string, unit_price float, customer_id int, country string\"\n",
    "\n",
    "df = spark.read.csv(\"/resources/data/online-retail-dataset.csv\", header=True, schema=schema)\n",
    "df = df.withColumn(\"invoice_date\", to_timestamp(df[\"invoice_date\"], \"M/d/yyyy H:mm\"))"
   ]
  },
  {
   "cell_type": "code",
   "execution_count": 7,
   "id": "adddd7a6-58ce-4fa3-82b9-fa5595285ad1",
   "metadata": {
    "collapsed": true,
    "jupyter": {
     "outputs_hidden": true
    },
    "tags": []
   },
   "outputs": [
    {
     "name": "stdout",
     "output_type": "stream",
     "text": [
      "+----------+----------+--------------------+--------+-------------------+----------+-----------+--------------+\n",
      "|invoice_no|stock_code|         description|quantity|       invoice_date|unit_price|customer_id|       country|\n",
      "+----------+----------+--------------------+--------+-------------------+----------+-----------+--------------+\n",
      "|    536365|    85123A|WHITE HANGING HEA...|       6|2010-12-01 08:26:00|      2.55|      17850|United Kingdom|\n",
      "|    536365|     71053| WHITE METAL LANTERN|       6|2010-12-01 08:26:00|      3.39|      17850|United Kingdom|\n",
      "|    536365|    84406B|CREAM CUPID HEART...|       8|2010-12-01 08:26:00|      2.75|      17850|United Kingdom|\n",
      "|    536365|    84029G|KNITTED UNION FLA...|       6|2010-12-01 08:26:00|      3.39|      17850|United Kingdom|\n",
      "|    536365|    84029E|RED WOOLLY HOTTIE...|       6|2010-12-01 08:26:00|      3.39|      17850|United Kingdom|\n",
      "+----------+----------+--------------------+--------+-------------------+----------+-----------+--------------+\n",
      "only showing top 5 rows\n",
      "\n",
      "root\n",
      " |-- invoice_no: long (nullable = true)\n",
      " |-- stock_code: string (nullable = true)\n",
      " |-- description: string (nullable = true)\n",
      " |-- quantity: integer (nullable = true)\n",
      " |-- invoice_date: timestamp (nullable = true)\n",
      " |-- unit_price: float (nullable = true)\n",
      " |-- customer_id: integer (nullable = true)\n",
      " |-- country: string (nullable = true)\n",
      "\n"
     ]
    },
    {
     "data": {
      "text/plain": [
       "['invoice_no',\n",
       " 'stock_code',\n",
       " 'description',\n",
       " 'quantity',\n",
       " 'invoice_date',\n",
       " 'unit_price',\n",
       " 'customer_id',\n",
       " 'country']"
      ]
     },
     "execution_count": 7,
     "metadata": {},
     "output_type": "execute_result"
    }
   ],
   "source": [
    "# == Viewing Data ==\n",
    "# Display top 5 rows\n",
    "df.show(5)\n",
    "\n",
    "# Display the schema of the DataFrame\n",
    "df.printSchema()\n",
    "\n",
    "# List all column names\n",
    "df.columns"
   ]
  },
  {
   "cell_type": "code",
   "execution_count": 8,
   "id": "27fe3713-e094-47fb-85a9-67219454a34b",
   "metadata": {
    "collapsed": true,
    "jupyter": {
     "outputs_hidden": true
    },
    "tags": []
   },
   "outputs": [
    {
     "name": "stdout",
     "output_type": "stream",
     "text": [
      "+----------+----------+\n",
      "|invoice_no|stock_code|\n",
      "+----------+----------+\n",
      "|    536365|    85123A|\n",
      "|    536365|     71053|\n",
      "|    536365|    84406B|\n",
      "|    536365|    84029G|\n",
      "|    536365|    84029E|\n",
      "|    536365|     22752|\n",
      "|    536365|     21730|\n",
      "|    536366|     22633|\n",
      "|    536366|     22632|\n",
      "|    536367|     84879|\n",
      "|    536367|     22745|\n",
      "|    536367|     22748|\n",
      "|    536367|     22749|\n",
      "|    536367|     22310|\n",
      "|    536367|     84969|\n",
      "|    536367|     22623|\n",
      "|    536367|     22622|\n",
      "|    536367|     21754|\n",
      "|    536367|     21755|\n",
      "|    536367|     21777|\n",
      "+----------+----------+\n",
      "only showing top 20 rows\n",
      "\n",
      "+--------------+\n",
      "|invoice_number|\n",
      "+--------------+\n",
      "|        536365|\n",
      "|        536365|\n",
      "|        536365|\n",
      "|        536365|\n",
      "|        536365|\n",
      "|        536365|\n",
      "|        536365|\n",
      "|        536366|\n",
      "|        536366|\n",
      "|        536367|\n",
      "|        536367|\n",
      "|        536367|\n",
      "|        536367|\n",
      "|        536367|\n",
      "|        536367|\n",
      "|        536367|\n",
      "|        536367|\n",
      "|        536367|\n",
      "|        536367|\n",
      "|        536367|\n",
      "+--------------+\n",
      "only showing top 20 rows\n",
      "\n"
     ]
    }
   ],
   "source": [
    "# == Selecting Columns ==\n",
    "# Select specific columns\n",
    "df.select(\"invoice_no\", \"stock_code\").show()\n",
    "\n",
    "# Using alias to rename a column\n",
    "df.select(df.invoice_no.alias(\"invoice_number\")).show()"
   ]
  },
  {
   "cell_type": "code",
   "execution_count": 9,
   "id": "6408a930-e173-4a3c-83da-28a28551daa0",
   "metadata": {
    "collapsed": true,
    "jupyter": {
     "outputs_hidden": true
    },
    "tags": []
   },
   "outputs": [
    {
     "name": "stdout",
     "output_type": "stream",
     "text": [
      "+----------+----------+--------------------+--------+-------------------+----------+-----------+--------------+\n",
      "|invoice_no|stock_code|         description|quantity|       invoice_date|unit_price|customer_id|       country|\n",
      "+----------+----------+--------------------+--------+-------------------+----------+-----------+--------------+\n",
      "|    536365|     22752|SET 7 BABUSHKA NE...|       2|2010-12-01 08:26:00|      7.65|      17850|United Kingdom|\n",
      "|    536367|     22622|BOX OF VINTAGE AL...|       2|2010-12-01 08:34:00|      9.95|      13047|United Kingdom|\n",
      "|    536367|     21754|HOME BUILDING BLO...|       3|2010-12-01 08:34:00|      5.95|      13047|United Kingdom|\n",
      "|    536367|     21755|LOVE BUILDING BLO...|       3|2010-12-01 08:34:00|      5.95|      13047|United Kingdom|\n",
      "|    536367|     21777|RECIPE BOX WITH M...|       4|2010-12-01 08:34:00|      7.95|      13047|United Kingdom|\n",
      "|    536367|     48187| DOORMAT NEW ENGLAND|       4|2010-12-01 08:34:00|      7.95|      13047|United Kingdom|\n",
      "|    536369|     21756|BATH BUILDING BLO...|       3|2010-12-01 08:35:00|      5.95|      13047|United Kingdom|\n",
      "|    536370|      POST|             POSTAGE|       3|2010-12-01 08:45:00|      18.0|      12583|        France|\n",
      "|    536373|     82486|WOOD S/3 CABINET ...|       4|2010-12-01 09:02:00|      6.95|      17850|United Kingdom|\n",
      "|    536373|     22752|SET 7 BABUSHKA NE...|       2|2010-12-01 09:02:00|      7.65|      17850|United Kingdom|\n",
      "|    536374|     21258|VICTORIAN SEWING ...|      32|2010-12-01 09:09:00|     10.95|      15100|United Kingdom|\n",
      "|    536375|     82486|WOOD S/3 CABINET ...|       4|2010-12-01 09:32:00|      6.95|      17850|United Kingdom|\n",
      "|    536375|     22752|SET 7 BABUSHKA NE...|       2|2010-12-01 09:32:00|      7.65|      17850|United Kingdom|\n",
      "|    536381|   15056BL|EDWARDIAN PARASOL...|       2|2010-12-01 09:41:00|      5.95|      15311|United Kingdom|\n",
      "|    536381|    15056N|EDWARDIAN PARASOL...|       2|2010-12-01 09:41:00|      5.95|      15311|United Kingdom|\n",
      "|    536381|     21523|DOORMAT FANCY FON...|      10|2010-12-01 09:41:00|      6.75|      15311|United Kingdom|\n",
      "|      null|         D|            Discount|      -1|2010-12-01 09:41:00|      27.5|      14527|United Kingdom|\n",
      "|    536382|     22926|IVORY GIANT GARDE...|      12|2010-12-01 09:45:00|      5.95|      16098|United Kingdom|\n",
      "|    536382|     22839|3 TIER CAKE TIN G...|       2|2010-12-01 09:45:00|     14.95|      16098|United Kingdom|\n",
      "|    536382|     22838|3 TIER CAKE TIN R...|       2|2010-12-01 09:45:00|     14.95|      16098|United Kingdom|\n",
      "+----------+----------+--------------------+--------+-------------------+----------+-----------+--------------+\n",
      "only showing top 20 rows\n",
      "\n",
      "+----------+----------+--------------------+--------+-------------------+----------+-----------+--------------+\n",
      "|invoice_no|stock_code|         description|quantity|       invoice_date|unit_price|customer_id|       country|\n",
      "+----------+----------+--------------------+--------+-------------------+----------+-----------+--------------+\n",
      "|    538855|    85135C|RED DRAGONFLY HEL...|       4|2010-12-14 13:50:00|      7.95|      16503|United Kingdom|\n",
      "|    538855|     21055|  TOOL BOX SOFT TOY |       1|2010-12-14 13:50:00|      8.95|      16503|United Kingdom|\n",
      "|    538855|     22781|GUMBALL MAGAZINE ...|       2|2010-12-14 13:50:00|      7.65|      16503|United Kingdom|\n",
      "|    538855|     22968|ROSE COTTAGE KEEP...|       2|2010-12-14 13:50:00|      9.95|      16503|United Kingdom|\n",
      "|      null|    85135C|RED DRAGONFLY HEL...|      -1|2010-12-16 15:36:00|      7.95|      16503|United Kingdom|\n",
      "|    541086|     21056|DOCTOR'S BAG SOFT...|       2|2011-01-13 12:32:00|      8.95|      16503|United Kingdom|\n",
      "|    541086|     22179|SET 10 LIGHTS NIG...|       2|2011-01-13 12:32:00|      6.75|      16503|United Kingdom|\n",
      "|    541086|     22468|BABUSHKA LIGHTS S...|       2|2011-01-13 12:32:00|      6.75|      16503|United Kingdom|\n",
      "|    541086|     21054|NURSE'S BAG SOFT TOY|       2|2011-01-13 12:32:00|      8.95|      16503|United Kingdom|\n",
      "|    541086|    85135C|RED DRAGONFLY HEL...|       2|2011-01-13 12:32:00|      7.95|      16503|United Kingdom|\n",
      "|    541086|    85136A|YELLOW SHARK HELI...|       2|2011-01-13 12:32:00|      7.95|      16503|United Kingdom|\n",
      "|    541086|     21360|JOY LARGE WOOD LE...|       1|2011-01-13 12:32:00|      9.95|      16503|United Kingdom|\n",
      "|    552472|     22485|SET OF 2 WOODEN M...|       2|2011-05-09 15:48:00|     12.75|      16503|United Kingdom|\n",
      "|    552472|     22781|GUMBALL MAGAZINE ...|       2|2011-05-09 15:48:00|      7.65|      16503|United Kingdom|\n",
      "|    552472|     21056|DOCTOR'S BAG SOFT...|       1|2011-05-09 15:48:00|      8.95|      16503|United Kingdom|\n",
      "|    552472|     22526|WHEELBARROW FOR C...|       1|2011-05-09 15:48:00|     12.75|      16503|United Kingdom|\n",
      "|    564433|     20750|RED RETROSPOT MIN...|       2|2011-08-25 11:46:00|      7.95|      16503|United Kingdom|\n",
      "|    564433|     20749|ASSORTED COLOUR M...|       2|2011-08-25 11:46:00|      7.95|      16503|United Kingdom|\n",
      "|    564433|     21055|  TOOL BOX SOFT TOY |       1|2011-08-25 11:46:00|      8.95|      16503|United Kingdom|\n",
      "|    564433|     22179|SET 10 NIGHT OWL ...|       2|2011-08-25 11:46:00|      6.75|      16503|United Kingdom|\n",
      "+----------+----------+--------------------+--------+-------------------+----------+-----------+--------------+\n",
      "only showing top 20 rows\n",
      "\n"
     ]
    }
   ],
   "source": [
    "# == Filtering Rows (WHERE) ==\n",
    "# Filter rows using a condition\n",
    "df.filter(df.unit_price > 5).show()\n",
    "\n",
    "# Filter using multiple conditions\n",
    "df.filter((df.unit_price > 5) & (df.customer_id == \"16503\")).show()\n"
   ]
  },
  {
   "cell_type": "code",
   "execution_count": 10,
   "id": "2a8b5c6f-567e-44f2-ab16-9f0972e698bf",
   "metadata": {
    "collapsed": true,
    "jupyter": {
     "outputs_hidden": true
    },
    "tags": []
   },
   "outputs": [
    {
     "name": "stdout",
     "output_type": "stream",
     "text": [
      "+----------+----------+--------------------+--------+-------------------+----------+-----------+--------------+\n",
      "|invoice_no|stock_code|         description|quantity|       invoice_date|unit_price|customer_id|       country|\n",
      "+----------+----------+--------------------+--------+-------------------+----------+-----------+--------------+\n",
      "|    536365|     22752|SET 7 BABUSHKA NE...|       2|2010-12-01 08:26:00|      7.65|      17850|United Kingdom|\n",
      "|    536365|    84406B|CREAM CUPID HEART...|       8|2010-12-01 08:26:00|      2.75|      17850|United Kingdom|\n",
      "|    536365|     21730|GLASS STAR FROSTE...|       6|2010-12-01 08:26:00|      4.25|      17850|United Kingdom|\n",
      "|    536365|    84029G|KNITTED UNION FLA...|       6|2010-12-01 08:26:00|      3.39|      17850|United Kingdom|\n",
      "|    536365|    85123A|WHITE HANGING HEA...|       6|2010-12-01 08:26:00|      2.55|      17850|United Kingdom|\n",
      "|    536365|     71053| WHITE METAL LANTERN|       6|2010-12-01 08:26:00|      3.39|      17850|United Kingdom|\n",
      "|    536365|    84029E|RED WOOLLY HOTTIE...|       6|2010-12-01 08:26:00|      3.39|      17850|United Kingdom|\n",
      "|    536366|     22632|HAND WARMER RED P...|       6|2010-12-01 08:28:00|      1.85|      17850|United Kingdom|\n",
      "|    536366|     22633|HAND WARMER UNION...|       6|2010-12-01 08:28:00|      1.85|      17850|United Kingdom|\n",
      "|    536367|     84879|ASSORTED COLOUR B...|      32|2010-12-01 08:34:00|      1.69|      13047|United Kingdom|\n",
      "|    536367|     22745|POPPY'S PLAYHOUSE...|       6|2010-12-01 08:34:00|       2.1|      13047|United Kingdom|\n",
      "|    536367|     22748|POPPY'S PLAYHOUSE...|       6|2010-12-01 08:34:00|       2.1|      13047|United Kingdom|\n",
      "|    536367|     22623|BOX OF VINTAGE JI...|       3|2010-12-01 08:34:00|      4.95|      13047|United Kingdom|\n",
      "|    536367|     21777|RECIPE BOX WITH M...|       4|2010-12-01 08:34:00|      7.95|      13047|United Kingdom|\n",
      "|    536367|     22749|FELTCRAFT PRINCES...|       8|2010-12-01 08:34:00|      3.75|      13047|United Kingdom|\n",
      "|    536367|     22310|IVORY KNITTED MUG...|       6|2010-12-01 08:34:00|      1.65|      13047|United Kingdom|\n",
      "|    536367|     22622|BOX OF VINTAGE AL...|       2|2010-12-01 08:34:00|      9.95|      13047|United Kingdom|\n",
      "|    536367|     21754|HOME BUILDING BLO...|       3|2010-12-01 08:34:00|      5.95|      13047|United Kingdom|\n",
      "|    536367|     48187| DOORMAT NEW ENGLAND|       4|2010-12-01 08:34:00|      7.95|      13047|United Kingdom|\n",
      "|    536367|     84969|BOX OF 6 ASSORTED...|       6|2010-12-01 08:34:00|      4.25|      13047|United Kingdom|\n",
      "+----------+----------+--------------------+--------+-------------------+----------+-----------+--------------+\n",
      "only showing top 20 rows\n",
      "\n",
      "+----------+----------+--------------------+--------+-------------------+----------+-----------+--------------+\n",
      "|invoice_no|stock_code|         description|quantity|       invoice_date|unit_price|customer_id|       country|\n",
      "+----------+----------+--------------------+--------+-------------------+----------+-----------+--------------+\n",
      "|      null|     84978|HANGING HEART JAR...|      -1|2011-12-09 11:58:00|      1.25|      17315|United Kingdom|\n",
      "|      null|     20979|36 PENCILS TUBE R...|      -5|2011-12-09 11:58:00|      1.25|      17315|United Kingdom|\n",
      "|      null|     21258|VICTORIAN SEWING ...|      -5|2011-12-09 11:57:00|     10.95|      15311|United Kingdom|\n",
      "|      null|         M|              Manual|      -1|2011-12-09 10:28:00|    224.69|      15498|United Kingdom|\n",
      "|      null|     22178|VICTORIAN GLASS H...|     -12|2011-12-09 09:57:00|      1.95|      14397|United Kingdom|\n",
      "|      null|     23144|ZINC T-LIGHT HOLD...|     -11|2011-12-09 09:57:00|      0.83|      14397|United Kingdom|\n",
      "|      null|     23843|PAPER CRAFT , LIT...|  -80995|2011-12-09 09:27:00|      2.08|      16446|United Kingdom|\n",
      "|      null|     23084|  RABBIT NIGHT LIGHT|      -4|2011-12-08 19:28:00|      2.08|      17924|United Kingdom|\n",
      "|      null|     21314|SMALL GLASS HEART...|     -10|2011-12-08 19:26:00|       2.1|      13599|United Kingdom|\n",
      "|      null|     22098|BOUDOIR SQUARE TI...|     -12|2011-12-08 19:26:00|      0.39|      13599|United Kingdom|\n",
      "|      null|     22838|3 TIER CAKE TIN R...|      -1|2011-12-08 19:20:00|     14.95|      13883|United Kingdom|\n",
      "|      null|     21216|SET 3 RETROSPOT T...|      -1|2011-12-08 19:20:00|      4.95|      13883|United Kingdom|\n",
      "|      null|     21535|RED RETROSPOT SMA...|      -2|2011-12-08 19:20:00|      2.55|      13883|United Kingdom|\n",
      "|      null|     21232|STRAWBERRY CERAMI...|      -1|2011-12-08 19:20:00|      1.25|      13883|United Kingdom|\n",
      "|      null|     22720|SET OF 3 CAKE TIN...|      -2|2011-12-08 19:20:00|      4.95|      13883|United Kingdom|\n",
      "|      null|     21876|       POTTERING MUG|      -4|2011-12-08 18:59:00|      1.65|      15755|United Kingdom|\n",
      "|      null|     23660|  HENRIETTA HEN MUG |      -2|2011-12-08 18:59:00|      1.65|      15755|United Kingdom|\n",
      "|      null|     20914|SET/5 RED RETROSP...|      -3|2011-12-08 18:59:00|      2.95|      15755|United Kingdom|\n",
      "|      null|     22171|3 HOOK PHOTO SHEL...|      -1|2011-12-08 18:59:00|       8.5|      15755|United Kingdom|\n",
      "|      null|     23458|DOLLY CABINET 3 D...|      -1|2011-12-08 18:57:00|     14.95|      15951|United Kingdom|\n",
      "+----------+----------+--------------------+--------+-------------------+----------+-----------+--------------+\n",
      "only showing top 20 rows\n",
      "\n"
     ]
    }
   ],
   "source": [
    "# Cell 6: Sorting Rows (ORDER BY)\n",
    "# Sort by a single column\n",
    "df.orderBy(\"invoice_date\").show()\n",
    "\n",
    "# Sort by multiple columns\n",
    "df.orderBy(df.invoice_no.asc(), df.invoice_date.desc()).show()\n"
   ]
  },
  {
   "cell_type": "code",
   "execution_count": 11,
   "id": "19fc46da-7e0c-4523-a1d3-f5c473db4fdb",
   "metadata": {
    "collapsed": true,
    "jupyter": {
     "outputs_hidden": true
    },
    "tags": []
   },
   "outputs": [
    {
     "name": "stdout",
     "output_type": "stream",
     "text": [
      "+-----------+-----+\n",
      "|customer_id|count|\n",
      "+-----------+-----+\n",
      "|      17420|   30|\n",
      "|      16861|    8|\n",
      "|      16503|   86|\n",
      "|      15727|  302|\n",
      "|      17389|  224|\n",
      "|      15447|    9|\n",
      "|      14450|   40|\n",
      "|      13623|   86|\n",
      "|      13285|  187|\n",
      "|      16339|   20|\n",
      "|      14570|   29|\n",
      "|      16386|   88|\n",
      "|      18024|   22|\n",
      "|      12940|  103|\n",
      "|      17679|   30|\n",
      "|      16574|   28|\n",
      "|      15957|   42|\n",
      "|      13832|    4|\n",
      "|      15619|    3|\n",
      "|      15790|   35|\n",
      "+-----------+-----+\n",
      "only showing top 20 rows\n",
      "\n",
      "+-----------+------------------+\n",
      "|customer_id|   sum(unit_price)|\n",
      "+-----------+------------------+\n",
      "|      17420| 116.4399995803833|\n",
      "|      16861| 18.72999981045723|\n",
      "|      16503|361.07999685406685|\n",
      "|      15727|  980.939994186163|\n",
      "|      17389|1273.5699914097786|\n",
      "|      15447| 28.09000015258789|\n",
      "|      14450|111.61999799311161|\n",
      "|      13623|  333.639996945858|\n",
      "|      13285|399.21999901533127|\n",
      "|      16339| 105.1499981880188|\n",
      "|      14570| 97.78999862074852|\n",
      "|      16386|145.98999929055572|\n",
      "|      18024| 58.48999959230423|\n",
      "|      12940|  411.349998742342|\n",
      "|      17679|159.26999905705452|\n",
      "|      16574| 39.91999959945679|\n",
      "|      15957|117.08999788761139|\n",
      "|      13832|10.600000023841858|\n",
      "|      15619|13.250000238418579|\n",
      "|      15790|119.84999915957451|\n",
      "+-----------+------------------+\n",
      "only showing top 20 rows\n",
      "\n",
      "+-----------+---------------+\n",
      "|customer_id|max(unit_price)|\n",
      "+-----------+---------------+\n",
      "|      17420|          19.95|\n",
      "|      16861|           4.41|\n",
      "|      16503|          16.95|\n",
      "|      15727|          125.0|\n",
      "|      17389|          12.75|\n",
      "|      15447|          12.75|\n",
      "|      14450|           5.75|\n",
      "|      13623|          14.95|\n",
      "|      13285|          16.95|\n",
      "|      16339|           7.95|\n",
      "|      14570|           9.95|\n",
      "|      16386|          12.75|\n",
      "|      18024|           9.95|\n",
      "|      12940|          19.95|\n",
      "|      17679|          39.95|\n",
      "|      16574|           7.95|\n",
      "|      15957|           9.95|\n",
      "|      13832|           3.75|\n",
      "|      15619|           7.65|\n",
      "|      15790|           9.95|\n",
      "+-----------+---------------+\n",
      "only showing top 20 rows\n",
      "\n"
     ]
    }
   ],
   "source": [
    "# Cell 7: Aggregations (GROUP BY)\n",
    "# Group by and aggregate using count, sum, avg, etc.\n",
    "df.groupBy(\"customer_id\").count().show()\n",
    "df.groupBy(\"customer_id\").sum(\"unit_price\").show()\n",
    "df.groupBy(\"customer_id\").agg({\"unit_price\": \"mean\", \"unit_price\": \"max\"}).show()\n"
   ]
  },
  {
   "cell_type": "code",
   "execution_count": 12,
   "id": "b94c3b0e-7273-4225-94ad-ca2742448f1d",
   "metadata": {
    "collapsed": true,
    "jupyter": {
     "outputs_hidden": true
    },
    "tags": []
   },
   "outputs": [
    {
     "name": "stdout",
     "output_type": "stream",
     "text": [
      "+----------+----------+--------------------+--------+-------------------+----------+-----------+--------------+------------+\n",
      "|invoice_no|stock_code|         description|quantity|       invoice_date|unit_price|customer_id|       country|price_status|\n",
      "+----------+----------+--------------------+--------+-------------------+----------+-----------+--------------+------------+\n",
      "|    536365|    85123A|WHITE HANGING HEA...|       6|2010-12-01 08:26:00|      2.55|      17850|United Kingdom|         Low|\n",
      "|    536365|     71053| WHITE METAL LANTERN|       6|2010-12-01 08:26:00|      3.39|      17850|United Kingdom|         Low|\n",
      "|    536365|    84406B|CREAM CUPID HEART...|       8|2010-12-01 08:26:00|      2.75|      17850|United Kingdom|         Low|\n",
      "|    536365|    84029G|KNITTED UNION FLA...|       6|2010-12-01 08:26:00|      3.39|      17850|United Kingdom|         Low|\n",
      "|    536365|    84029E|RED WOOLLY HOTTIE...|       6|2010-12-01 08:26:00|      3.39|      17850|United Kingdom|         Low|\n",
      "|    536365|     22752|SET 7 BABUSHKA NE...|       2|2010-12-01 08:26:00|      7.65|      17850|United Kingdom|        High|\n",
      "|    536365|     21730|GLASS STAR FROSTE...|       6|2010-12-01 08:26:00|      4.25|      17850|United Kingdom|         Low|\n",
      "|    536366|     22633|HAND WARMER UNION...|       6|2010-12-01 08:28:00|      1.85|      17850|United Kingdom|         Low|\n",
      "|    536366|     22632|HAND WARMER RED P...|       6|2010-12-01 08:28:00|      1.85|      17850|United Kingdom|         Low|\n",
      "|    536367|     84879|ASSORTED COLOUR B...|      32|2010-12-01 08:34:00|      1.69|      13047|United Kingdom|         Low|\n",
      "|    536367|     22745|POPPY'S PLAYHOUSE...|       6|2010-12-01 08:34:00|       2.1|      13047|United Kingdom|         Low|\n",
      "|    536367|     22748|POPPY'S PLAYHOUSE...|       6|2010-12-01 08:34:00|       2.1|      13047|United Kingdom|         Low|\n",
      "|    536367|     22749|FELTCRAFT PRINCES...|       8|2010-12-01 08:34:00|      3.75|      13047|United Kingdom|         Low|\n",
      "|    536367|     22310|IVORY KNITTED MUG...|       6|2010-12-01 08:34:00|      1.65|      13047|United Kingdom|         Low|\n",
      "|    536367|     84969|BOX OF 6 ASSORTED...|       6|2010-12-01 08:34:00|      4.25|      13047|United Kingdom|         Low|\n",
      "|    536367|     22623|BOX OF VINTAGE JI...|       3|2010-12-01 08:34:00|      4.95|      13047|United Kingdom|         Low|\n",
      "|    536367|     22622|BOX OF VINTAGE AL...|       2|2010-12-01 08:34:00|      9.95|      13047|United Kingdom|        High|\n",
      "|    536367|     21754|HOME BUILDING BLO...|       3|2010-12-01 08:34:00|      5.95|      13047|United Kingdom|         Low|\n",
      "|    536367|     21755|LOVE BUILDING BLO...|       3|2010-12-01 08:34:00|      5.95|      13047|United Kingdom|         Low|\n",
      "|    536367|     21777|RECIPE BOX WITH M...|       4|2010-12-01 08:34:00|      7.95|      13047|United Kingdom|        High|\n",
      "+----------+----------+--------------------+--------+-------------------+----------+-----------+--------------+------------+\n",
      "only showing top 20 rows\n",
      "\n"
     ]
    }
   ],
   "source": [
    "# == CASE WHEN (Conditional Statements) ==\n",
    "# Create a new column with conditional values\n",
    "df = df.withColumn(\"price_status\", when(df.unit_price > 7, \"High\").otherwise(\"Low\"))\n",
    "df.show()\n"
   ]
  },
  {
   "cell_type": "code",
   "execution_count": 13,
   "id": "def5d277-7c3d-4041-b467-37853a5c9f66",
   "metadata": {
    "collapsed": true,
    "jupyter": {
     "outputs_hidden": true
    },
    "tags": []
   },
   "outputs": [],
   "source": [
    "# == Handling Missing Data == \n",
    "# Drop rows with any nulls\n",
    "df = df.na.drop()\n",
    "\n",
    "# Fill nulls in a specific column with a value\n",
    "df = df.na.fill({\"description\": \"no description\", \"unit_price\": 0})\n"
   ]
  },
  {
   "cell_type": "markdown",
   "id": "f486e199",
   "metadata": {
    "tags": []
   },
   "source": [
    "## UDF"
   ]
  },
  {
   "cell_type": "code",
   "execution_count": 14,
   "id": "d49cd137-c48f-4901-a0af-8b4628e0b8d4",
   "metadata": {
    "collapsed": true,
    "jupyter": {
     "outputs_hidden": true
    },
    "tags": []
   },
   "outputs": [],
   "source": [
    "from pyspark.sql.functions import col, udf, pandas_udf\n",
    "from pyspark.sql.types import IntegerType\n",
    "\n",
    "# Create a sample dataframe\n",
    "df = spark.createDataFrame([(1, \"apple\"), (2, \"banana\"), (3, \"orange\"), \n",
    "                            (4, \"apple\"), (5, \"banana\"), (6, \"orange\"),\n",
    "                            (7, \"apple\"), (8, \"banana\"), (9, \"orange\"),\n",
    "                            (10, \"apple\")], [\"id\", \"fruit\"])"
   ]
  },
  {
   "cell_type": "code",
   "execution_count": 15,
   "id": "08f54db5-1de8-45d0-b25c-569ab400ad52",
   "metadata": {
    "collapsed": true,
    "jupyter": {
     "outputs_hidden": true
    },
    "tags": []
   },
   "outputs": [
    {
     "name": "stdout",
     "output_type": "stream",
     "text": [
      "+---+------+------+\n",
      "| id| fruit|length|\n",
      "+---+------+------+\n",
      "|  1| apple|     5|\n",
      "|  2|banana|     6|\n",
      "|  3|orange|     6|\n",
      "|  4| apple|     5|\n",
      "|  5|banana|     6|\n",
      "|  6|orange|     6|\n",
      "|  7| apple|     5|\n",
      "|  8|banana|     6|\n",
      "|  9|orange|     6|\n",
      "| 10| apple|     5|\n",
      "+---+------+------+\n",
      "\n"
     ]
    }
   ],
   "source": [
    "# Define the UDF logic\n",
    "def string_length(s):\n",
    "    return len(s)\n",
    "\n",
    "# Define the Python UDF\n",
    "string_length_udf = udf(string_length, IntegerType())\n",
    "\n",
    "# Apply the Python UDF and display the result\n",
    "df1 = df.withColumn(\"length\", string_length_udf(col(\"fruit\")))\n",
    "df1.show()"
   ]
  },
  {
   "cell_type": "code",
   "execution_count": 16,
   "id": "007cc03d-d008-421f-a75c-bfcb2cc810e6",
   "metadata": {
    "collapsed": true,
    "jupyter": {
     "outputs_hidden": true
    },
    "tags": []
   },
   "outputs": [
    {
     "name": "stdout",
     "output_type": "stream",
     "text": [
      "+---+------+------+\n",
      "| id| fruit|length|\n",
      "+---+------+------+\n",
      "|  1| apple|     5|\n",
      "|  2|banana|     6|\n",
      "|  3|orange|     6|\n",
      "|  4| apple|     5|\n",
      "|  5|banana|     6|\n",
      "|  6|orange|     6|\n",
      "|  7| apple|     5|\n",
      "|  8|banana|     6|\n",
      "|  9|orange|     6|\n",
      "| 10| apple|     5|\n",
      "+---+------+------+\n",
      "\n"
     ]
    }
   ],
   "source": [
    "import pandas as pd\n",
    "\n",
    "# Define the Pandas UDF\n",
    "@pandas_udf(IntegerType())\n",
    "def string_length_pandas_udf(s: pd.Series) -> pd.Series:\n",
    "    return s.str.len()\n",
    "    \n",
    "# Apply the Pandas UDF and display the result\n",
    "df2 = df.withColumn(\"length\", string_length_pandas_udf(col(\"fruit\")))\n",
    "df2.show()"
   ]
  },
  {
   "cell_type": "markdown",
   "id": "1fc1a3c4",
   "metadata": {
    "tags": []
   },
   "source": [
    "## Join"
   ]
  },
  {
   "cell_type": "code",
   "execution_count": 17,
   "id": "0ba8408e",
   "metadata": {
    "collapsed": true,
    "jupyter": {
     "outputs_hidden": true
    },
    "tags": []
   },
   "outputs": [],
   "source": [
    "spark.conf.set(\"spark.sql.adaptive.enabled\", \"false\")"
   ]
  },
  {
   "cell_type": "code",
   "execution_count": 18,
   "id": "5debe3b7",
   "metadata": {
    "collapsed": true,
    "jupyter": {
     "outputs_hidden": true
    },
    "tags": []
   },
   "outputs": [],
   "source": [
    "# define schema for purchases dataset\n",
    "purchases_schema = \"order_id int, customer_id int, product_id int, quantity int, price float\"\n",
    "\n",
    "# create purchases dataframe\n",
    "purchases_data = [\n",
    "    (101, 1, 1, 2, 19.99), # Worker 1\n",
    "    (102, 2, 2, 1, 9.99), # Worker 1\n",
    "    (103, 3, 3, 1, 15.99), # Worker 1\n",
    "    (104, 1, 4, 1, 5.99), # Worker 2\n",
    "    (105, 2, 5, 3, 12.99), # Worker 2\n",
    "    (106, 3, 6, 2, 9.99), # Worker 2\n",
    "    (107, 4, 7, 1, 11.99), # Worker 2\n",
    "    (108, 1, 8, 2, 14.99), # Worker 3\n",
    "    (109, 2, 9, 1, 9.99), # Worker 3\n",
    "    (110, 3, 10, 1, 19.99) # Worker 3\n",
    "]\n",
    "purchases_df = spark.createDataFrame(purchases_data, schema=purchases_schema)\n",
    "# 10.000 row\n",
    "\n",
    "# define schema for customers dataset\n",
    "customers_schema = \"customer_id int, name string, email string\"\n",
    "\n",
    "# create customers dataframe\n",
    "customers_data = [\n",
    "    (1, \"John Doe\", \"johndoe@example.com\"), # Worker 1\n",
    "    (2, \"Jane Smith\", \"janesmith@example.com\"), # Worker 2\n",
    "    (3, \"Bob Johnson\", \"bobjohnson@example.com\"), # Worker 3\n",
    "    (4, \"Sue Lee\", \"suelee@example.com\"), # Worker 3\n",
    "]\n",
    "\n",
    "customers_df = spark.createDataFrame(customers_data, schema=customers_schema)\n",
    "# 1000 row\n",
    "\n",
    "# define schema for products dataset\n",
    "products_schema = \"product_id int, name string, price float\"\n",
    "\n",
    "# create products dataframe\n",
    "products_data = [\n",
    "    (1, \"Product A\", 19.99),\n",
    "    (2, \"Product B\", 9.99),\n",
    "    (3, \"Product C\", 15.99),\n",
    "    (4, \"Product D\", 5.99),\n",
    "    (5, \"Product E\", 12.99),\n",
    "    (6, \"Product F\", 9.99),\n",
    "    (7, \"Product G\", 11.99),\n",
    "    (8, \"Product H\", 14.99),\n",
    "    (9, \"Product I\", 9.99),\n",
    "    (10, \"Product J\", 19.99)\n",
    "]\n",
    "products_df = spark.createDataFrame(products_data, schema=products_schema)"
   ]
  },
  {
   "cell_type": "code",
   "execution_count": 19,
   "id": "ee4acd54",
   "metadata": {
    "collapsed": true,
    "jupyter": {
     "outputs_hidden": true
    },
    "tags": []
   },
   "outputs": [],
   "source": [
    "\n",
    "# set join preferences\n",
    "spark.conf.set(\"spark.sql.join.preferSortMergeJoin\", \"true\")\n",
    "spark.conf.set(\"spark.sql.autoBroadcastJoinThreshold\", \"-1\")\n",
    "\n",
    "# perform sort merge join\n",
    "merged_df = (\n",
    "    purchases_df\n",
    "    .join(customers_df, \"customer_id\")\n",
    "    .join(products_df, \"product_id\")\n",
    ")"
   ]
  },
  {
   "cell_type": "code",
   "execution_count": 20,
   "id": "4843cfad-0947-4533-b79e-11c933490907",
   "metadata": {
    "collapsed": true,
    "jupyter": {
     "outputs_hidden": true
    },
    "tags": []
   },
   "outputs": [
    {
     "name": "stdout",
     "output_type": "stream",
     "text": [
      "+----------+-----------+--------+--------+-----+-----------+--------------------+---------+-----+\n",
      "|product_id|customer_id|order_id|quantity|price|       name|               email|     name|price|\n",
      "+----------+-----------+--------+--------+-----+-----------+--------------------+---------+-----+\n",
      "|         1|          1|     101|       2|19.99|   John Doe| johndoe@example.com|Product A|19.99|\n",
      "|         6|          3|     106|       2| 9.99|Bob Johnson|bobjohnson@exampl...|Product F| 9.99|\n",
      "|         3|          3|     103|       1|15.99|Bob Johnson|bobjohnson@exampl...|Product C|15.99|\n",
      "|         5|          2|     105|       3|12.99| Jane Smith|janesmith@example...|Product E|12.99|\n",
      "|         9|          2|     109|       1| 9.99| Jane Smith|janesmith@example...|Product I| 9.99|\n",
      "|         4|          1|     104|       1| 5.99|   John Doe| johndoe@example.com|Product D| 5.99|\n",
      "|         8|          1|     108|       2|14.99|   John Doe| johndoe@example.com|Product H|14.99|\n",
      "|         7|          4|     107|       1|11.99|    Sue Lee|  suelee@example.com|Product G|11.99|\n",
      "|        10|          3|     110|       1|19.99|Bob Johnson|bobjohnson@exampl...|Product J|19.99|\n",
      "|         2|          2|     102|       1| 9.99| Jane Smith|janesmith@example...|Product B| 9.99|\n",
      "+----------+-----------+--------+--------+-----+-----------+--------------------+---------+-----+\n",
      "\n"
     ]
    }
   ],
   "source": [
    "merged_df.show()"
   ]
  },
  {
   "cell_type": "code",
   "execution_count": 21,
   "id": "4da946f4-663f-42a6-a0f6-5d59e8ba6666",
   "metadata": {
    "collapsed": true,
    "jupyter": {
     "outputs_hidden": true
    },
    "tags": []
   },
   "outputs": [
    {
     "name": "stdout",
     "output_type": "stream",
     "text": [
      "+----------+-----------+--------+--------+-----+-----------+--------------------+---------+-----+\n",
      "|product_id|customer_id|order_id|quantity|price|       name|               email|     name|price|\n",
      "+----------+-----------+--------+--------+-----+-----------+--------------------+---------+-----+\n",
      "|         1|          1|     101|       2|19.99|   John Doe| johndoe@example.com|Product A|19.99|\n",
      "|         6|          3|     106|       2| 9.99|Bob Johnson|bobjohnson@exampl...|Product F| 9.99|\n",
      "|         3|          3|     103|       1|15.99|Bob Johnson|bobjohnson@exampl...|Product C|15.99|\n",
      "|         5|          2|     105|       3|12.99| Jane Smith|janesmith@example...|Product E|12.99|\n",
      "|         9|          2|     109|       1| 9.99| Jane Smith|janesmith@example...|Product I| 9.99|\n",
      "|         4|          1|     104|       1| 5.99|   John Doe| johndoe@example.com|Product D| 5.99|\n",
      "|         8|          1|     108|       2|14.99|   John Doe| johndoe@example.com|Product H|14.99|\n",
      "|         7|          4|     107|       1|11.99|    Sue Lee|  suelee@example.com|Product G|11.99|\n",
      "|        10|          3|     110|       1|19.99|Bob Johnson|bobjohnson@exampl...|Product J|19.99|\n",
      "|         2|          2|     102|       1| 9.99| Jane Smith|janesmith@example...|Product B| 9.99|\n",
      "+----------+-----------+--------+--------+-----+-----------+--------------------+---------+-----+\n",
      "\n"
     ]
    }
   ],
   "source": [
    "merged_df.show()"
   ]
  },
  {
   "cell_type": "code",
   "execution_count": 22,
   "id": "7a3fc643",
   "metadata": {
    "collapsed": true,
    "jupyter": {
     "outputs_hidden": true
    },
    "tags": []
   },
   "outputs": [
    {
     "name": "stdout",
     "output_type": "stream",
     "text": [
      "+----------+-----------+--------+--------+-----+-----------+--------------------+---------+-----+\n",
      "|product_id|customer_id|order_id|quantity|price|       name|               email|     name|price|\n",
      "+----------+-----------+--------+--------+-----+-----------+--------------------+---------+-----+\n",
      "|         1|          1|     101|       2|19.99|   John Doe| johndoe@example.com|Product A|19.99|\n",
      "|         2|          2|     102|       1| 9.99| Jane Smith|janesmith@example...|Product B| 9.99|\n",
      "|         3|          3|     103|       1|15.99|Bob Johnson|bobjohnson@exampl...|Product C|15.99|\n",
      "|         4|          1|     104|       1| 5.99|   John Doe| johndoe@example.com|Product D| 5.99|\n",
      "|         5|          2|     105|       3|12.99| Jane Smith|janesmith@example...|Product E|12.99|\n",
      "+----------+-----------+--------+--------+-----+-----------+--------------------+---------+-----+\n",
      "only showing top 5 rows\n",
      "\n"
     ]
    }
   ],
   "source": [
    "from pyspark.sql.functions import broadcast\n",
    "\n",
    "# set join preferences\n",
    "spark.conf.set(\"spark.sql.join.preferSortMergeJoin\", \"false\")\n",
    "spark.conf.set(\"spark.sql.autoBroadcastJoinThreshold\", \"1000000000\")\n",
    "\n",
    "# perform broadcast hash join\n",
    "broadcast_df = purchases_df.join(broadcast(customers_df), \"customer_id\").join(broadcast(products_df), \"product_id\")\n",
    "broadcast_df.show(5)"
   ]
  },
  {
   "cell_type": "code",
   "execution_count": 23,
   "id": "ee11a5e4-5b22-4869-9350-fa86a4dc73e5",
   "metadata": {
    "tags": []
   },
   "outputs": [
    {
     "name": "stdout",
     "output_type": "stream",
     "text": [
      "+----------+-----------+--------+--------+-----+--------+-------------------+---------+-----+\n",
      "|product_id|customer_id|order_id|quantity|price|    name|              email|     name|price|\n",
      "+----------+-----------+--------+--------+-----+--------+-------------------+---------+-----+\n",
      "|         1|          1|     101|       2|19.99|John Doe|johndoe@example.com|Product A|19.99|\n",
      "+----------+-----------+--------+--------+-----+--------+-------------------+---------+-----+\n",
      "only showing top 1 row\n",
      "\n"
     ]
    }
   ],
   "source": [
    "broadcast_df.show(1)"
   ]
  },
  {
   "cell_type": "markdown",
   "id": "1c4e7b6f",
   "metadata": {
    "tags": []
   },
   "source": [
    "## Cache & Persist"
   ]
  },
  {
   "cell_type": "code",
   "execution_count": 24,
   "id": "6d34ddc9",
   "metadata": {
    "tags": []
   },
   "outputs": [
    {
     "name": "stdout",
     "output_type": "stream",
     "text": [
      "+----------+-----------+--------+--------+-----+-----------+--------------------+---------+-----+\n",
      "|product_id|customer_id|order_id|quantity|price|       name|               email|     name|price|\n",
      "+----------+-----------+--------+--------+-----+-----------+--------------------+---------+-----+\n",
      "|         1|          1|     101|       2|19.99|   John Doe| johndoe@example.com|Product A|19.99|\n",
      "|         2|          2|     102|       1| 9.99| Jane Smith|janesmith@example...|Product B| 9.99|\n",
      "|         3|          3|     103|       1|15.99|Bob Johnson|bobjohnson@exampl...|Product C|15.99|\n",
      "|         4|          1|     104|       1| 5.99|   John Doe| johndoe@example.com|Product D| 5.99|\n",
      "|         5|          2|     105|       3|12.99| Jane Smith|janesmith@example...|Product E|12.99|\n",
      "|         6|          3|     106|       2| 9.99|Bob Johnson|bobjohnson@exampl...|Product F| 9.99|\n",
      "|         7|          4|     107|       1|11.99|    Sue Lee|  suelee@example.com|Product G|11.99|\n",
      "|         8|          1|     108|       2|14.99|   John Doe| johndoe@example.com|Product H|14.99|\n",
      "|         9|          2|     109|       1| 9.99| Jane Smith|janesmith@example...|Product I| 9.99|\n",
      "|        10|          3|     110|       1|19.99|Bob Johnson|bobjohnson@exampl...|Product J|19.99|\n",
      "+----------+-----------+--------+--------+-----+-----------+--------------------+---------+-----+\n",
      "\n"
     ]
    }
   ],
   "source": [
    "broadcast_df.show()"
   ]
  },
  {
   "cell_type": "code",
   "execution_count": 25,
   "id": "29762444",
   "metadata": {
    "tags": []
   },
   "outputs": [
    {
     "data": {
      "text/plain": [
       "DataFrame[product_id: int, customer_id: int, order_id: int, quantity: int, price: float, name: string, email: string, name: string, price: float]"
      ]
     },
     "execution_count": 25,
     "metadata": {},
     "output_type": "execute_result"
    }
   ],
   "source": [
    "# cache the purchases DataFrame\n",
    "# broadcast_df.cache()\n",
    "broadcast_df.unpersist()"
   ]
  },
  {
   "cell_type": "code",
   "execution_count": 26,
   "id": "c5362722",
   "metadata": {
    "tags": []
   },
   "outputs": [],
   "source": [
    "from pyspark.sql.functions import col\n",
    "\n",
    "# calculate the total purchase amount for each store using the cached DataFrame\n",
    "store_purchase_totals = (\n",
    "    purchases_df\n",
    "    .withColumn(\"total_price\",col(\"quantity\")*col(\"price\"))\n",
    "    .groupBy(\"customer_id\")\n",
    "    .agg({\"total_price\":\"sum\"}).alias(\"total_purchase_amount\")\n",
    ")"
   ]
  },
  {
   "cell_type": "code",
   "execution_count": 27,
   "id": "d393ce0b",
   "metadata": {
    "collapsed": true,
    "jupyter": {
     "outputs_hidden": true
    },
    "tags": []
   },
   "outputs": [
    {
     "data": {
      "text/plain": [
       "DataFrame[customer_id: int, sum(total_price): double]"
      ]
     },
     "execution_count": 27,
     "metadata": {},
     "output_type": "execute_result"
    }
   ],
   "source": [
    "# persist the store_purchase_totals DataFrame to disk\n",
    "# store_purchase_totals.persist(pyspark.StorageLevel.DISK_ONLY)\n",
    "store_purchase_totals.persist(pyspark.StorageLevel.MEMORY_ONLY)\n"
   ]
  },
  {
   "cell_type": "code",
   "execution_count": 28,
   "id": "3cd6c04e",
   "metadata": {
    "collapsed": true,
    "jupyter": {
     "outputs_hidden": true
    },
    "tags": []
   },
   "outputs": [
    {
     "name": "stdout",
     "output_type": "stream",
     "text": [
      "+-----------+------------------+\n",
      "|customer_id|  sum(total_price)|\n",
      "+-----------+------------------+\n",
      "|          1| 75.94999885559082|\n",
      "|          3|55.959999084472656|\n",
      "|          4|11.989999771118164|\n",
      "|          2| 58.95000076293945|\n",
      "+-----------+------------------+\n",
      "\n"
     ]
    }
   ],
   "source": [
    "# print the results\n",
    "store_purchase_totals.show()"
   ]
  },
  {
   "cell_type": "code",
   "execution_count": 29,
   "id": "a61f1045-5d26-483c-b305-6afbbf81eda7",
   "metadata": {
    "collapsed": true,
    "jupyter": {
     "outputs_hidden": true
    },
    "tags": []
   },
   "outputs": [
    {
     "name": "stdout",
     "output_type": "stream",
     "text": [
      "+-----------+------------------+\n",
      "|customer_id|  sum(total_price)|\n",
      "+-----------+------------------+\n",
      "|          1| 75.94999885559082|\n",
      "|          3|55.959999084472656|\n",
      "|          4|11.989999771118164|\n",
      "|          2| 58.95000076293945|\n",
      "+-----------+------------------+\n",
      "\n"
     ]
    }
   ],
   "source": [
    "# print the results\n",
    "store_purchase_totals.show()"
   ]
  },
  {
   "cell_type": "code",
   "execution_count": 30,
   "id": "1a7311ae",
   "metadata": {
    "collapsed": true,
    "jupyter": {
     "outputs_hidden": true
    },
    "tags": []
   },
   "outputs": [
    {
     "data": {
      "text/plain": [
       "DataFrame[customer_id: int, sum(total_price): double]"
      ]
     },
     "execution_count": 30,
     "metadata": {},
     "output_type": "execute_result"
    }
   ],
   "source": [
    "# unpersist the store_purchase_totals DataFrame to free up memory\n",
    "store_purchase_totals.unpersist()"
   ]
  },
  {
   "cell_type": "markdown",
   "id": "32239315",
   "metadata": {},
   "source": [
    "Balik lagi ke collab"
   ]
  },
  {
   "cell_type": "markdown",
   "id": "07bb0765-642a-4bda-97ed-508cc1ae491a",
   "metadata": {
    "tags": []
   },
   "source": [
    "# JDBC"
   ]
  },
  {
   "cell_type": "code",
   "execution_count": null,
   "id": "b9a81123-e2db-455a-a118-62ab7c9a9dd6",
   "metadata": {
    "tags": []
   },
   "outputs": [],
   "source": [
    "jdbc_url = f'jdbc:postgresql://{postgres_host}/{postgres_dw_db}'\n",
    "jdbc_properties = {\n",
    "    'user': postgres_user,\n",
    "    'password': postgres_password,\n",
    "    'driver': 'org.postgresql.Driver',\n",
    "    'stringtype': 'unspecified'\n",
    "}"
   ]
  },
  {
   "cell_type": "code",
   "execution_count": null,
   "id": "75f7b87d-7135-4cde-875e-961fae293f21",
   "metadata": {
    "tags": []
   },
   "outputs": [],
   "source": [
    "retail_df = spark.read.jdbc(\n",
    "    jdbc_url,\n",
    "    'public.retail',\n",
    "    properties=jdbc_properties\n",
    ")"
   ]
  },
  {
   "cell_type": "code",
   "execution_count": null,
   "id": "58e2aafe-7bd5-42e4-81dd-38122bc3cf1c",
   "metadata": {
    "tags": []
   },
   "outputs": [],
   "source": [
    "retail_df.show(5)"
   ]
  },
  {
   "cell_type": "code",
   "execution_count": null,
   "id": "02307c9f-e3ae-43b5-bb8e-aa6a8ca768bd",
   "metadata": {
    "tags": []
   },
   "outputs": [],
   "source": [
    "(\n",
    "    retail_df\n",
    "    .limit(10)\n",
    "    .write\n",
    "    .mode(\"append\")\n",
    "    .option(\"truncate\", \"true\")\n",
    "    .jdbc(\n",
    "        jdbc_url,\n",
    "        'public.sample_retail',\n",
    "        properties=jdbc_properties\n",
    "    )\n",
    ")"
   ]
  },
  {
   "cell_type": "code",
   "execution_count": null,
   "id": "7de5aefb-ad88-4642-94fd-b58b825ae74c",
   "metadata": {
    "tags": []
   },
   "outputs": [],
   "source": [
    "(\n",
    "    spark\n",
    "    .read\n",
    "    .jdbc(\n",
    "        jdbc_url,\n",
    "        'public.sample_retail',\n",
    "        properties=jdbc_properties\n",
    "    )\n",
    "    .show()\n",
    ")"
   ]
  }
 ],
 "metadata": {
  "kernelspec": {
   "display_name": "Python 3 (ipykernel)",
   "language": "python",
   "name": "python3"
  },
  "language_info": {
   "codemirror_mode": {
    "name": "ipython",
    "version": 3
   },
   "file_extension": ".py",
   "mimetype": "text/x-python",
   "name": "python",
   "nbconvert_exporter": "python",
   "pygments_lexer": "ipython3",
   "version": "3.10.10"
  }
 },
 "nbformat": 4,
 "nbformat_minor": 5
}
